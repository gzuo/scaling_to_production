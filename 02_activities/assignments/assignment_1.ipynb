{
 "cells": [
  {
   "cell_type": "markdown",
   "metadata": {},
   "source": [
    "# Working with parquet files\n",
    "\n",
    "## Objective\n",
    "\n",
    "+ In this assignment, we will use the data downloaded with the module `data_manager` to create features.\n",
    "\n",
    "(11 pts total)\n",
    "\n",
    "## Prerequisites\n",
    "\n",
    "+ This notebook assumes that price data is available to you in the environment variable `PRICE_DATA`. If you have not done so, then execute the notebook `production_2_data_engineering.ipynb` to create this data set.\n"
   ]
  },
  {
   "cell_type": "markdown",
   "metadata": {},
   "source": [
    "+ Load the environment variables using dotenv. (1 pt)"
   ]
  },
  {
   "cell_type": "code",
   "execution_count": 10,
   "metadata": {},
   "outputs": [
    {
     "name": "stdout",
     "output_type": "stream",
     "text": [
      "The dotenv extension is already loaded. To reload it, use:\n",
      "  %reload_ext dotenv\n"
     ]
    }
   ],
   "source": [
    "# Write your code below.\n",
    "\n",
    "%load_ext dotenv\n",
    "\n",
    "%dotenv ../01_materials/labs/.env\n",
    "\n"
   ]
  },
  {
   "cell_type": "code",
   "execution_count": 11,
   "metadata": {},
   "outputs": [],
   "source": [
    "import dask\n",
    "dask.config.set({'dataframe.query-planning': True})\n",
    "import dask.dataframe as dd"
   ]
  },
  {
   "cell_type": "markdown",
   "metadata": {},
   "source": [
    "+ Load the environment variable `PRICE_DATA`.\n",
    "+ Use [glob](https://docs.python.org/3/library/glob.html) to find the path of all parquet files in the directory `PRICE_DATA`.\n",
    "\n",
    "(1pt)"
   ]
  },
  {
   "cell_type": "code",
   "execution_count": 24,
   "metadata": {},
   "outputs": [
    {
     "name": "stdout",
     "output_type": "stream",
     "text": [
      "../../05_src/data/prices/\n"
     ]
    },
    {
     "data": {
      "text/html": [
       "<div>\n",
       "<style scoped>\n",
       "    .dataframe tbody tr th:only-of-type {\n",
       "        vertical-align: middle;\n",
       "    }\n",
       "\n",
       "    .dataframe tbody tr th {\n",
       "        vertical-align: top;\n",
       "    }\n",
       "\n",
       "    .dataframe thead th {\n",
       "        text-align: right;\n",
       "    }\n",
       "</style>\n",
       "<table border=\"1\" class=\"dataframe\">\n",
       "  <thead>\n",
       "    <tr style=\"text-align: right;\">\n",
       "      <th></th>\n",
       "      <th>Date</th>\n",
       "      <th>Open</th>\n",
       "      <th>High</th>\n",
       "      <th>Low</th>\n",
       "      <th>Close</th>\n",
       "      <th>Adj Close</th>\n",
       "      <th>Volume</th>\n",
       "      <th>sector</th>\n",
       "      <th>subsector</th>\n",
       "      <th>year</th>\n",
       "    </tr>\n",
       "    <tr>\n",
       "      <th>ticker</th>\n",
       "      <th></th>\n",
       "      <th></th>\n",
       "      <th></th>\n",
       "      <th></th>\n",
       "      <th></th>\n",
       "      <th></th>\n",
       "      <th></th>\n",
       "      <th></th>\n",
       "      <th></th>\n",
       "      <th></th>\n",
       "    </tr>\n",
       "  </thead>\n",
       "  <tbody>\n",
       "    <tr>\n",
       "      <th>A</th>\n",
       "      <td>2000-01-03</td>\n",
       "      <td>56.330471</td>\n",
       "      <td>56.464592</td>\n",
       "      <td>48.193848</td>\n",
       "      <td>51.502148</td>\n",
       "      <td>43.613007</td>\n",
       "      <td>4674353</td>\n",
       "      <td>Health Care</td>\n",
       "      <td>Life Sciences Tools &amp; Services</td>\n",
       "      <td>2000</td>\n",
       "    </tr>\n",
       "    <tr>\n",
       "      <th>A</th>\n",
       "      <td>2000-01-04</td>\n",
       "      <td>48.730328</td>\n",
       "      <td>49.266811</td>\n",
       "      <td>46.316166</td>\n",
       "      <td>47.567955</td>\n",
       "      <td>40.281467</td>\n",
       "      <td>4765083</td>\n",
       "      <td>Health Care</td>\n",
       "      <td>Life Sciences Tools &amp; Services</td>\n",
       "      <td>2000</td>\n",
       "    </tr>\n",
       "    <tr>\n",
       "      <th>A</th>\n",
       "      <td>2000-01-05</td>\n",
       "      <td>47.389126</td>\n",
       "      <td>47.567955</td>\n",
       "      <td>43.141991</td>\n",
       "      <td>44.617310</td>\n",
       "      <td>37.782822</td>\n",
       "      <td>5758642</td>\n",
       "      <td>Health Care</td>\n",
       "      <td>Life Sciences Tools &amp; Services</td>\n",
       "      <td>2000</td>\n",
       "    </tr>\n",
       "    <tr>\n",
       "      <th>A</th>\n",
       "      <td>2000-01-06</td>\n",
       "      <td>44.080830</td>\n",
       "      <td>44.349072</td>\n",
       "      <td>41.577251</td>\n",
       "      <td>42.918453</td>\n",
       "      <td>36.344166</td>\n",
       "      <td>2534434</td>\n",
       "      <td>Health Care</td>\n",
       "      <td>Life Sciences Tools &amp; Services</td>\n",
       "      <td>2000</td>\n",
       "    </tr>\n",
       "    <tr>\n",
       "      <th>A</th>\n",
       "      <td>2000-01-07</td>\n",
       "      <td>42.247852</td>\n",
       "      <td>47.165592</td>\n",
       "      <td>42.203148</td>\n",
       "      <td>46.494991</td>\n",
       "      <td>39.372864</td>\n",
       "      <td>2819626</td>\n",
       "      <td>Health Care</td>\n",
       "      <td>Life Sciences Tools &amp; Services</td>\n",
       "      <td>2000</td>\n",
       "    </tr>\n",
       "  </tbody>\n",
       "</table>\n",
       "</div>"
      ],
      "text/plain": [
       "             Date       Open       High        Low      Close  Adj Close  \\\n",
       "ticker                                                                     \n",
       "A      2000-01-03  56.330471  56.464592  48.193848  51.502148  43.613007   \n",
       "A      2000-01-04  48.730328  49.266811  46.316166  47.567955  40.281467   \n",
       "A      2000-01-05  47.389126  47.567955  43.141991  44.617310  37.782822   \n",
       "A      2000-01-06  44.080830  44.349072  41.577251  42.918453  36.344166   \n",
       "A      2000-01-07  42.247852  47.165592  42.203148  46.494991  39.372864   \n",
       "\n",
       "         Volume       sector                       subsector  year  \n",
       "ticker                                                              \n",
       "A       4674353  Health Care  Life Sciences Tools & Services  2000  \n",
       "A       4765083  Health Care  Life Sciences Tools & Services  2000  \n",
       "A       5758642  Health Care  Life Sciences Tools & Services  2000  \n",
       "A       2534434  Health Care  Life Sciences Tools & Services  2000  \n",
       "A       2819626  Health Care  Life Sciences Tools & Services  2000  "
      ]
     },
     "execution_count": 24,
     "metadata": {},
     "output_type": "execute_result"
    }
   ],
   "source": [
    "# Write your code below.\n",
    "import os\n",
    "from glob import glob\n",
    "\n",
    "PRICE_DATA = os.getenv(\"PRICE_DATA\")\n",
    "print(PRICE_DATA)\n",
    "\n",
    "parquet_files = glob(os.path.join(PRICE_DATA, \"*/*/*.parquet\"))\n",
    "#print(parquet_files)\n",
    "\n",
    "dd_px = dd.read_parquet(parquet_files).set_index(\"ticker\")\n",
    "dd_px.head()"
   ]
  },
  {
   "cell_type": "markdown",
   "metadata": {},
   "source": [
    "For each ticker and using Dask, do the following:\n",
    "\n",
    "+ Add lags for variables Close and Adj_Close.\n",
    "+ Add returns based on Adjusted Close:\n",
    "    \n",
    "    - `returns`: (Adj Close / Adj Close_lag) - 1\n",
    "\n",
    "+ Add the following range: \n",
    "\n",
    "    - `hi_lo_range`: this is the day's High minus Low.\n",
    "\n",
    "+ Assign the result to `dd_feat`.\n",
    "\n",
    "(4 pt)"
   ]
  },
  {
   "cell_type": "code",
   "execution_count": 33,
   "metadata": {},
   "outputs": [
    {
     "name": "stderr",
     "output_type": "stream",
     "text": [
      "C:\\Users\\admin\\AppData\\Local\\Temp\\ipykernel_19660\\1699903059.py:5: UserWarning: `meta` is not specified, inferred from partial data. Please provide `meta` if the result is unexpected.\n",
      "  Before: .apply(func)\n",
      "  After:  .apply(func, meta={'x': 'f8', 'y': 'f8'}) for dataframe result\n",
      "  or:     .apply(func, meta=('x', 'f8'))            for series result\n",
      "  dd_feat = (dd_px.groupby('ticker', group_keys=False).apply(\n"
     ]
    }
   ],
   "source": [
    "# Write your code below.\n",
    "\n",
    "# print(dd_px.head())\n",
    "\n",
    "dd_feat = (dd_px.groupby('ticker', group_keys=False).apply(\n",
    "    lambda x: x.assign(Close_lag = x['Close'].shift(1),\n",
    "                       Adj_Close_lag = x['Adj Close'].shift(1))\n",
    ").assign(\n",
    "    returns = lambda x: x['Adj Close']/x['Adj_Close_lag'] - 1\n",
    ").assign(\n",
    "    hi_lo_range = lambda x: x['High'] - x['Low']\n",
    "))\n",
    "\n",
    "\n",
    "\n"
   ]
  },
  {
   "cell_type": "markdown",
   "metadata": {},
   "source": [
    "+ Convert the Dask data frame to a pandas data frame. \n",
    "+ Add a rolling average return calculation with a window of 10 days.\n",
    "+ *Tip*: Consider using `.rolling(10).mean()`.\n",
    "\n",
    "(3 pt)"
   ]
  },
  {
   "cell_type": "code",
   "execution_count": 34,
   "metadata": {},
   "outputs": [
    {
     "data": {
      "text/plain": [
       "ticker\n",
       "OXY          NaN\n",
       "OXY          NaN\n",
       "OXY          NaN\n",
       "OXY          NaN\n",
       "OXY          NaN\n",
       "          ...   \n",
       "INTU    0.008518\n",
       "INTU    0.010734\n",
       "INTU    0.011941\n",
       "INTU    0.009628\n",
       "INTU    0.010109\n",
       "Name: Rolling_Average, Length: 2746333, dtype: float64"
      ]
     },
     "execution_count": 34,
     "metadata": {},
     "output_type": "execute_result"
    }
   ],
   "source": [
    "# Write your code below.\n",
    "\n",
    "import pandas as pd\n",
    "\n",
    "df = dd_feat.compute()\n",
    "\n",
    "df['Rolling_Average'] = df['returns'].rolling(10).mean()\n",
    "df['Rolling_Average'] \n",
    "\n"
   ]
  },
  {
   "cell_type": "code",
   "execution_count": 37,
   "metadata": {},
   "outputs": [
    {
     "name": "stdout",
     "output_type": "stream",
     "text": [
      "             Date        Open        High         Low       Close   Adj Close  \\\n",
      "ticker                                                                          \n",
      "OXY    2003-01-02   13.556569   13.939794   13.556569   13.935003    7.948109   \n",
      "OXY    2003-01-03   13.891891   13.987697   13.863149   13.958955    7.961768   \n",
      "OXY    2003-01-06   13.891891   14.164938   13.891891   14.107454    8.046469   \n",
      "OXY    2003-01-07   13.963745   13.982906   13.614053   13.647585    7.784178   \n",
      "OXY    2003-01-08   13.527827   13.724230   13.460763   13.585311    7.748655   \n",
      "...           ...         ...         ...         ...         ...         ...   \n",
      "INTU   2024-06-24  630.719971  633.719971  622.460022  623.880005  623.880005   \n",
      "INTU   2024-06-25  629.169983  630.549988  624.390015  630.469971  630.469971   \n",
      "INTU   2024-06-26  628.000000  638.650024  624.489990  637.479980  637.479980   \n",
      "INTU   2024-06-27  639.080017  657.159973  635.510010  651.440002  651.440002   \n",
      "INTU   2024-06-28  652.000000  662.510010  647.979980  657.210022  657.210022   \n",
      "\n",
      "         Volume                  sector                           subsector  \\\n",
      "ticker                                                                        \n",
      "OXY     2594406                  Energy  Oil & Gas Exploration & Production   \n",
      "OXY     2560170                  Energy  Oil & Gas Exploration & Production   \n",
      "OXY     2987491                  Energy  Oil & Gas Exploration & Production   \n",
      "OXY     2825497                  Energy  Oil & Gas Exploration & Production   \n",
      "OXY     2278351                  Energy  Oil & Gas Exploration & Production   \n",
      "...         ...                     ...                                 ...   \n",
      "INTU    1606000  Information Technology                Application Software   \n",
      "INTU    1271900  Information Technology                Application Software   \n",
      "INTU    1169600  Information Technology                Application Software   \n",
      "INTU    1478000  Information Technology                Application Software   \n",
      "INTU    1754000  Information Technology                Application Software   \n",
      "\n",
      "        year   Close_lag  Adj_Close_lag   returns  hi_lo_range  \\\n",
      "ticker                                                           \n",
      "OXY     2003         NaN            NaN       NaN     0.383224   \n",
      "OXY     2003   13.935003       7.948109  0.001719     0.124548   \n",
      "OXY     2003   13.958955       7.961768  0.010638     0.273047   \n",
      "OXY     2003   14.107454       8.046469 -0.032597     0.368854   \n",
      "OXY     2003   13.647585       7.784178 -0.004564     0.263467   \n",
      "...      ...         ...            ...       ...          ...   \n",
      "INTU    2024  632.150024     632.150024 -0.013082    11.259949   \n",
      "INTU    2024  623.880005     623.880005  0.010563     6.159973   \n",
      "INTU    2024  630.469971     630.469971  0.011119    14.160034   \n",
      "INTU    2024  637.479980     637.479980  0.021899    21.649963   \n",
      "INTU    2024  651.440002     651.440002  0.008857    14.530029   \n",
      "\n",
      "        Rolling_Average  \n",
      "ticker                   \n",
      "OXY                 NaN  \n",
      "OXY                 NaN  \n",
      "OXY                 NaN  \n",
      "OXY                 NaN  \n",
      "OXY                 NaN  \n",
      "...                 ...  \n",
      "INTU           0.008518  \n",
      "INTU           0.010734  \n",
      "INTU           0.011941  \n",
      "INTU           0.009628  \n",
      "INTU           0.010109  \n",
      "\n",
      "[2746333 rows x 15 columns]\n"
     ]
    }
   ],
   "source": [
    "print(df)"
   ]
  },
  {
   "cell_type": "markdown",
   "metadata": {},
   "source": [
    "Please comment:\n",
    "\n",
    "+ Was it necessary to convert to pandas to calculate the moving average return?\n",
    "\n",
    "No, it is not necessary to convert a Dask DataFrame to a pandas DataFrame to calculate the moving average return. I believe many of the operations available in pandas are also available in Dask.\n",
    "\n",
    "\n",
    "+ Would it have been better to do it in Dask? Why?\n",
    "\n",
    "Yes. The Dask DataFrames are designed to handle operations on large datasets that may not fit into memory so it would have better performance when datasets are huge.\n",
    "\n",
    "(1 pt)"
   ]
  },
  {
   "cell_type": "markdown",
   "metadata": {},
   "source": [
    "## Criteria\n",
    "\n",
    "|Criteria|Complete|Incomplete|\n",
    "|---------------------|----|----|\n",
    "|Calculations         |Calculations were done correctly.|Calculations were not done correctly.|\n",
    "|Explanation of answer|Answer was concise and explained the learner's reasoning in depth.|Answer was not concise and did not explained the learner's reasoning in depth.|"
   ]
  },
  {
   "cell_type": "markdown",
   "metadata": {},
   "source": [
    "## Submission Information\n",
    "\n",
    "🚨 **Please review our [Assignment Submission Guide](https://github.com/UofT-DSI/onboarding/blob/main/onboarding_documents/submissions.md)** 🚨 for detailed instructions on how to format, branch, and submit your work. Following these guidelines is crucial for your submissions to be evaluated correctly.\n",
    "\n",
    "### Submission Parameters:\n",
    "* Submission Due Date: `HH:MM AM/PM - DD/MM/YYYY`\n",
    "* The branch name for your repo should be: `assignment-1`\n",
    "* What to submit for this assignment:\n",
    "    * This Jupyter Notebook (assignment_1.ipynb) should be populated and should be the only change in your pull request.\n",
    "* What the pull request link should look like for this assignment: `https://github.com/<your_github_username>/production/pull/<pr_id>`\n",
    "    * Open a private window in your browser. Copy and paste the link to your pull request into the address bar. Make sure you can see your pull request properly. This helps the technical facilitator and learning support staff review your submission easily.\n",
    "\n",
    "Checklist:\n",
    "- [ ] Created a branch with the correct naming convention.\n",
    "- [ ] Ensured that the repository is public.\n",
    "- [ ] Reviewed the PR description guidelines and adhered to them.\n",
    "- [ ] Verify that the link is accessible in a private browser window.\n",
    "\n",
    "If you encounter any difficulties or have questions, please don't hesitate to reach out to our team via our Slack at `#cohort-3-help`. Our Technical Facilitators and Learning Support staff are here to help you navigate any challenges."
   ]
  }
 ],
 "metadata": {
  "kernelspec": {
   "display_name": "env",
   "language": "python",
   "name": "python3"
  },
  "language_info": {
   "codemirror_mode": {
    "name": "ipython",
    "version": 3
   },
   "file_extension": ".py",
   "mimetype": "text/x-python",
   "name": "python",
   "nbconvert_exporter": "python",
   "pygments_lexer": "ipython3",
   "version": "3.9.15"
  }
 },
 "nbformat": 4,
 "nbformat_minor": 2
}
